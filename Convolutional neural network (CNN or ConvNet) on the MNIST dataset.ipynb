{
 "cells": [
  {
   "cell_type": "markdown",
   "metadata": {
    "id": "WEe7O1jF25f4"
   },
   "source": [
    
    "## Convolutional neural network (CNN or ConvNet) on the MNIST dataset\n",
    "## Prepared by Md Kamrul Islam"
   ]
  },
  {
   "cell_type": "markdown",
   "metadata": {
    "id": "OYpQsJ_jw_Vl"
   },
   "source": [
    "## Importing libraries"
   ]
  },
  {
   "cell_type": "code",
   "execution_count": 1,
   "metadata": {
    "id": "-mOjnLyNw9gL"
   },
   "outputs": [],
   "source": [
    "import tensorflow as tf\n",
    "from matplotlib import pyplot as plt"
   ]
  },
  {
   "cell_type": "markdown",
   "metadata": {
    "id": "28dgO5qzxZvU"
   },
   "source": [
    "### Importing Data"
   ]
  },
  {
   "cell_type": "code",
   "execution_count": 2,
   "metadata": {
    "id": "PmjuRj5TL1UI"
   },
   "outputs": [],
   "source": [
    "data= tf.keras.datasets.mnist"
   ]
  },
  {
   "cell_type": "code",
   "execution_count": 3,
   "metadata": {
    "colab": {
     "base_uri": "https://localhost:8080/"
    },
    "id": "D2WdzRO5MEOO",
    "outputId": "f6cb0b8d-32d9-48f3-e88e-94b8af1788a8"
   },
   "outputs": [
    {
     "name": "stdout",
     "output_type": "stream",
     "text": [
      "Downloading data from https://storage.googleapis.com/tensorflow/tf-keras-datasets/mnist.npz\n",
      "11493376/11490434 [==============================] - 0s 0us/step\n",
      "11501568/11490434 [==============================] - 0s 0us/step\n"
     ]
    }
   ],
   "source": [
    "(trainX, trainy), (testX, testy) = data.load_data()"
   ]
  },
  {
   "cell_type": "markdown",
   "metadata": {
    "id": "oBHCL7ttxpiH"
   },
   "source": [
    "### Observing data shape and size"
   ]
  },
  {
   "cell_type": "code",
   "execution_count": 4,
   "metadata": {
    "colab": {
     "base_uri": "https://localhost:8080/"
    },
    "id": "gf8hwMVmMJM6",
    "outputId": "685ffe0f-183d-464d-9f8b-c7cab810234b"
   },
   "outputs": [
    {
     "name": "stdout",
     "output_type": "stream",
     "text": [
      "Train: X=(60000, 28, 28), y=(60000,)\n",
      "Test: X=(10000, 28, 28), y=(10000,)\n"
     ]
    }
   ],
   "source": [
    "print('Train: X=%s, y=%s' % (trainX.shape, trainy.shape))\n",
    "print('Test: X=%s, y=%s' % (testX.shape, testy.shape))"
   ]
  },
  {
   "cell_type": "markdown",
   "metadata": {
    "id": "314sng1vxze7"
   },
   "source": [
    "## Visualizing few images"
   ]
  },
  {
   "cell_type": "code",
   "execution_count": 5,
   "metadata": {
    "colab": {
     "base_uri": "https://localhost:8080/",
     "height": 109
    },
    "id": "CA_FZ_nmMMhY",
    "outputId": "6a10ace6-ccc9-4e58-e95a-02956b02a513"
   },
   "outputs": [
    {
     "data": {
      "image/png": "[encoded data removed]",
      "text/plain": [
       "<Figure size 432x288 with 5 Axes>"
      ]
     },
     "metadata": {
      "needs_background": "light"
     },
     "output_type": "display_data"
    }
   ],
   "source": [
    "for i in range(5):\n",
    "  plt.subplot(150+ 1 + i)\n",
    "  plt.imshow(trainX[i], cmap=plt.get_cmap('gray'))\n",
    "# show the figure\n",
    "plt.show()"
   ]
  },
  {
   "cell_type": "markdown",
   "metadata": {
    "id": "zDBAdP17yF76"
   },
   "source": [
    "## Normalizing images"
   ]
  },
  {
   "cell_type": "code",
   "execution_count": 6,
   "metadata": {
    "colab": {
     "base_uri": "https://localhost:8080/",
     "height": 282
    },
    "id": "cPIzOhIGMX8_",
    "outputId": "b83d5495-3c37-4440-9bfa-071de180a645"
   },
   "outputs": [
    {
     "data": {
      "text/plain": [
       "<matplotlib.image.AxesImage at 0x7f995b80cc10>"
      ]
     },
     "execution_count": 6,
     "metadata": {},
     "output_type": "execute_result"
    },
    {
     "data": {
      "image/png": "[encoded data removed]",
      "text/plain": [
       "<Figure size 432x288 with 1 Axes>"
      ]
     },
     "metadata": {
      "needs_background": "light"
     },
     "output_type": "display_data"
    }
   ],
   "source": [
    "x_train = tf.keras.utils.normalize(trainX, axis=1)\n",
    "x_test = tf.keras.utils.normalize(testX, axis=1)\n",
    "plt.imshow(x_train[0], cmap=plt.cm.binary)"
   ]
  },
  {
   "cell_type": "markdown",
   "metadata": {
    "id": "EEA6Crc9yX0X"
   },
   "source": [
    "### Importing necessary libraries for Convolutional Neural Networks"
   ]
  },
  {
   "cell_type": "code",
   "execution_count": 7,
   "metadata": {
    "id": "MhYRY0pwMj0b"
   },
   "outputs": [],
   "source": [
    "from tensorflow.keras.utils import to_categorical\n",
    "from tensorflow.keras.models import Sequential\n",
    "from tensorflow.keras.layers import Conv2D\n",
    "from tensorflow.keras.layers import MaxPooling2D\n",
    "from tensorflow.keras.layers import Dense\n",
    "from tensorflow.keras.layers import Flatten\n",
    "from tensorflow.keras.layers import Dropout, Activation"
   ]
  },
  {
   "cell_type": "markdown",
   "metadata": {
    "id": "MXmIQoXlyyJn"
   },
   "source": [
    "## Resizing images"
   ]
  },
  {
   "cell_type": "code",
   "execution_count": 8,
   "metadata": {
    "colab": {
     "base_uri": "https://localhost:8080/"
    },
    "id": "4DOmu4LjN5MQ",
    "outputId": "35a55993-241f-42a7-cc84-58f16cde017d"
   },
   "outputs": [
    {
     "name": "stdout",
     "output_type": "stream",
     "text": [
      "(60000, 28, 28, 1) (10000, 28, 28, 1)\n"
     ]
    }
   ],
   "source": [
    "import numpy as np\n",
    "IMG_SIZE= 28\n",
    "x_trainr =np.array(x_train).reshape(-1,IMG_SIZE,IMG_SIZE, 1)\n",
    "x_testr =np.array(x_test).reshape(-1,IMG_SIZE,IMG_SIZE, 1 )\n",
    "print(x_trainr.shape,x_testr.shape)"
   ]
  },
  {
   "cell_type": "markdown",
   "metadata": {
    "id": "bOIvU6u2y8uP"
   },
   "source": [
    "## Creating a CNN model"
   ]
  },
  {
   "cell_type": "code",
   "execution_count": 9,
   "metadata": {
    "id": "BjjkGAfYNrZG"
   },
   "outputs": [],
   "source": [
    "model= Sequential()\n",
    "# First convolation layer\n",
    "model.add(Conv2D(64, (3, 3), input_shape= x_trainr.shape[1:]))\n",
    "model.add(Activation(\"relu\"))\n",
    "model.add(MaxPooling2D((2, 2)))\n",
    "model.add(Dropout(0.25))\n",
    "\n",
    "#Second convolation layer\n",
    "model.add(Conv2D(64, (3, 3), input_shape= x_trainr.shape[1:]))\n",
    "model.add(Activation(\"relu\"))\n",
    "model.add(MaxPooling2D((2, 2)))\n",
    "model.add(Dropout(0.25))\n",
    "\n",
    "#Thrid convolation layer\n",
    "model.add(Conv2D(64, (3, 3), input_shape= x_trainr.shape[1:]))\n",
    "model.add(Activation(\"relu\"))\n",
    "model.add(MaxPooling2D((2, 2)))\n",
    "model.add(Dropout(0.25))\n",
    "\n",
    "#Fully connected layer\n",
    "model.add(Flatten())\n",
    "model.add (Dense(64))\n",
    "model.add(Activation(\"relu\"))\n",
    "\n",
    "model.add(Dense(32))\n",
    "model.add(Activation(\"relu\"))\n",
    "\n",
    "model.add(Dense(10))\n",
    "model.add(Activation(\"softmax\"))"
   ]
  },
  {
   "cell_type": "markdown",
   "metadata": {
    "id": "2U9WfFAazUVj"
   },
   "source": [
    "## Visualizing CNN structure\n"
   ]
  },
  {
   "cell_type": "code",
   "execution_count": 10,
   "metadata": {
    "colab": {
     "base_uri": "https://localhost:8080/"
    },
    "id": "AIWzkV27Nxu3",
    "outputId": "22774e23-4529-4824-9ca2-88fb8dcb6174"
   },
   "outputs": [
    {
     "name": "stdout",
     "output_type": "stream",
     "text": [
      "Model: \"sequential\"\n",
      "_________________________________________________________________\n",
      " Layer (type)                Output Shape              Param #   \n",
      "=================================================================\n",
      " conv2d (Conv2D)             (None, 26, 26, 64)        640       \n",
      "                                                                 \n",
      " activation (Activation)     (None, 26, 26, 64)        0         \n",
      "                                                                 \n",
      " max_pooling2d (MaxPooling2D  (None, 13, 13, 64)       0         \n",
      " )                                                               \n",
      "                                                                 \n",
      " dropout (Dropout)           (None, 13, 13, 64)        0         \n",
      "                                                                 \n",
      " conv2d_1 (Conv2D)           (None, 11, 11, 64)        36928     \n",
      "                                                                 \n",
      " activation_1 (Activation)   (None, 11, 11, 64)        0         \n",
      "                                                                 \n",
      " max_pooling2d_1 (MaxPooling  (None, 5, 5, 64)         0         \n",
      " 2D)                                                             \n",
      "                                                                 \n",
      " dropout_1 (Dropout)         (None, 5, 5, 64)          0         \n",
      "                                                                 \n",
      " conv2d_2 (Conv2D)           (None, 3, 3, 64)          36928     \n",
      "                                                                 \n",
      " activation_2 (Activation)   (None, 3, 3, 64)          0         \n",
      "                                                                 \n",
      " max_pooling2d_2 (MaxPooling  (None, 1, 1, 64)         0         \n",
      " 2D)                                                             \n",
      "                                                                 \n",
      " dropout_2 (Dropout)         (None, 1, 1, 64)          0         \n",
      "                                                                 \n",
      " flatten (Flatten)           (None, 64)                0         \n",
      "                                                                 \n",
      " dense (Dense)               (None, 64)                4160      \n",
      "                                                                 \n",
      " activation_3 (Activation)   (None, 64)                0         \n",
      "                                                                 \n",
      " dense_1 (Dense)             (None, 32)                2080      \n",
      "                                                                 \n",
      " activation_4 (Activation)   (None, 32)                0         \n",
      "                                                                 \n",
      " dense_2 (Dense)             (None, 10)                330       \n",
      "                                                                 \n",
      " activation_5 (Activation)   (None, 10)                0         \n",
      "                                                                 \n",
      "=================================================================\n",
      "Total params: 81,066\n",
      "Trainable params: 81,066\n",
      "Non-trainable params: 0\n",
      "_________________________________________________________________\n"
     ]
    }
   ],
   "source": [
    "model.summary()"
   ]
  },
  {
   "cell_type": "markdown",
   "metadata": {
    "id": "BRslqKEwzkS5"
   },
   "source": [
    "## Compling model"
   ]
  },
  {
   "cell_type": "code",
   "execution_count": 12,
   "metadata": {
    "id": "HJ1K8j9rOgxX"
   },
   "outputs": [],
   "source": [
    " model.compile(loss=\"sparse_categorical_crossentropy\", optimizer=\"adam\", metrics=[\"accuracy\"])"
   ]
  },
  {
   "cell_type": "markdown",
   "metadata": {
    "id": "REfS7BLkzr1p"
   },
   "source": [
    "## Fitting model"
   ]
  },
  {
   "cell_type": "code",
   "execution_count": 13,
   "metadata": {
    "colab": {
     "base_uri": "https://localhost:8080/"
    },
    "id": "U6r_EAVDOpvG",
    "outputId": "9240cd56-b4a8-4bee-cbbd-8c890dc41faf"
   },
   "outputs": [
    {
     "name": "stdout",
     "output_type": "stream",
     "text": [
      "Epoch 1/20\n",
      "1200/1200 [==============================] - 24s 12ms/step - loss: 0.4865 - accuracy: 0.8431 - val_loss: 0.1177 - val_accuracy: 0.9645\n",
      "Epoch 2/20\n",
      "1200/1200 [==============================] - 14s 11ms/step - loss: 0.1784 - accuracy: 0.9456 - val_loss: 0.0803 - val_accuracy: 0.9749\n",
      "Epoch 3/20\n",
      "1200/1200 [==============================] - 14s 11ms/step - loss: 0.1404 - accuracy: 0.9578 - val_loss: 0.0702 - val_accuracy: 0.9769\n",
      "Epoch 4/20\n",
      "1200/1200 [==============================] - 14s 12ms/step - loss: 0.1168 - accuracy: 0.9650 - val_loss: 0.0739 - val_accuracy: 0.9787\n",
      "Epoch 5/20\n",
      "1200/1200 [==============================] - 14s 11ms/step - loss: 0.1025 - accuracy: 0.9693 - val_loss: 0.0600 - val_accuracy: 0.9812\n",
      "Epoch 6/20\n",
      "1200/1200 [==============================] - 14s 11ms/step - loss: 0.0967 - accuracy: 0.9718 - val_loss: 0.0547 - val_accuracy: 0.9842\n",
      "Epoch 7/20\n",
      "1200/1200 [==============================] - 14s 11ms/step - loss: 0.0839 - accuracy: 0.9746 - val_loss: 0.0565 - val_accuracy: 0.9839\n",
      "Epoch 8/20\n",
      "1200/1200 [==============================] - 14s 12ms/step - loss: 0.0822 - accuracy: 0.9752 - val_loss: 0.0506 - val_accuracy: 0.9841\n",
      "Epoch 9/20\n",
      "1200/1200 [==============================] - 14s 12ms/step - loss: 0.0772 - accuracy: 0.9769 - val_loss: 0.0479 - val_accuracy: 0.9850\n",
      "Epoch 10/20\n",
      "1200/1200 [==============================] - 14s 12ms/step - loss: 0.0751 - accuracy: 0.9770 - val_loss: 0.0442 - val_accuracy: 0.9870\n",
      "Epoch 11/20\n",
      "1200/1200 [==============================] - 14s 11ms/step - loss: 0.0685 - accuracy: 0.9791 - val_loss: 0.0430 - val_accuracy: 0.9868\n",
      "Epoch 12/20\n",
      "1200/1200 [==============================] - 14s 11ms/step - loss: 0.0656 - accuracy: 0.9803 - val_loss: 0.0444 - val_accuracy: 0.9871\n",
      "Epoch 13/20\n",
      "1200/1200 [==============================] - 14s 11ms/step - loss: 0.0619 - accuracy: 0.9807 - val_loss: 0.0482 - val_accuracy: 0.9866\n",
      "Epoch 14/20\n",
      "1200/1200 [==============================] - 14s 11ms/step - loss: 0.0638 - accuracy: 0.9803 - val_loss: 0.0414 - val_accuracy: 0.9877\n",
      "Epoch 15/20\n",
      "1200/1200 [==============================] - 14s 12ms/step - loss: 0.0587 - accuracy: 0.9827 - val_loss: 0.0464 - val_accuracy: 0.9870\n",
      "Epoch 16/20\n",
      "1200/1200 [==============================] - 14s 11ms/step - loss: 0.0567 - accuracy: 0.9825 - val_loss: 0.0492 - val_accuracy: 0.9856\n",
      "Epoch 17/20\n",
      "1200/1200 [==============================] - 14s 11ms/step - loss: 0.0548 - accuracy: 0.9831 - val_loss: 0.0429 - val_accuracy: 0.9891\n",
      "Epoch 18/20\n",
      "1200/1200 [==============================] - 14s 12ms/step - loss: 0.0546 - accuracy: 0.9828 - val_loss: 0.0449 - val_accuracy: 0.9868\n",
      "Epoch 19/20\n",
      "1200/1200 [==============================] - 14s 12ms/step - loss: 0.0519 - accuracy: 0.9830 - val_loss: 0.0424 - val_accuracy: 0.9881\n",
      "Epoch 20/20\n",
      "1200/1200 [==============================] - 14s 12ms/step - loss: 0.0511 - accuracy: 0.9844 - val_loss: 0.0415 - val_accuracy: 0.9880\n"
     ]
    }
   ],
   "source": [
    "history = model.fit(x_trainr, trainy, epochs=20, batch_size=40, validation_split=0.2)"
   ]
  },
  {
   "cell_type": "markdown",
   "metadata": {
    "id": "ebB23CM9z7q4"
   },
   "source": [
    "## Model evaluation"
   ]
  },
  {
   "cell_type": "code",
   "execution_count": 14,
   "metadata": {
    "colab": {
     "base_uri": "https://localhost:8080/"
    },
    "id": "SUEXN-xKQy30",
    "outputId": "bece06cd-5833-45fa-f449-036a3810f904"
   },
   "outputs": [
    {
     "name": "stdout",
     "output_type": "stream",
     "text": [
      "313/313 [==============================] - 2s 6ms/step - loss: 0.0349 - accuracy: 0.9903\n"
     ]
    },
    {
     "data": {
      "text/plain": [
       "[0.03494710847735405, 0.9902999997138977]"
      ]
     },
     "execution_count": 14,
     "metadata": {},
     "output_type": "execute_result"
    }
   ],
   "source": [
    "model.evaluate(x_testr, testy)"
   ]
  },
  {
   "cell_type": "markdown",
   "metadata": {
    "id": "C_-X_0SV0Ah9"
   },
   "source": [
    "## Predection of test data with the model"
   ]
  },
  {
   "cell_type": "code",
   "execution_count": 15,
   "metadata": {
    "colab": {
     "base_uri": "https://localhost:8080/"
    },
    "id": "Q9LyiwZ9Zuti",
    "outputId": "16760d03-ead1-47d4-f26f-478085d82a3b"
   },
   "outputs": [
    {
     "name": "stdout",
     "output_type": "stream",
     "text": [
      "[[3.3628458e-11 6.2643259e-08 3.2693993e-06 ... 9.9999416e-01\n",
      "  3.9641493e-10 1.7343789e-06]\n",
      " [2.6316795e-07 7.4725278e-08 9.9999356e-01 ... 1.3707424e-06\n",
      "  4.9466756e-08 1.2469920e-07]\n",
      " [3.7703721e-06 9.9997103e-01 6.5886854e-07 ... 2.1260041e-06\n",
      "  5.4791140e-06 2.1165488e-06]\n",
      " ...\n",
      " [3.8093740e-11 5.5012630e-09 4.0561702e-08 ... 1.8870186e-07\n",
      "  2.0626385e-06 2.0035618e-06]\n",
      " [1.5621340e-07 2.3012085e-07 3.3067914e-07 ... 3.2340655e-10\n",
      "  9.4263836e-05 1.9291242e-06]\n",
      " [6.1801356e-06 2.7022259e-07 1.1971169e-06 ... 4.5644777e-09\n",
      "  9.9959880e-06 2.3867665e-06]]\n"
     ]
    }
   ],
   "source": [
    "pridiction = model.predict(x_testr)\n",
    "print(pridiction)"
   ]
  },
  {
   "cell_type": "markdown",
   "metadata": {
    "id": "TQDr6rQT0PvV"
   },
   "source": [
    "## Predicting an image "
   ]
  },
  {
   "cell_type": "code",
   "execution_count": 16,
   "metadata": {
    "colab": {
     "base_uri": "https://localhost:8080/"
    },
    "id": "9fBzd2tbZxjm",
    "outputId": "64e1ab6b-a013-4dce-b21b-3a62970ebfeb"
   },
   "outputs": [
    {
     "name": "stdout",
     "output_type": "stream",
     "text": [
      "9\n"
     ]
    }
   ],
   "source": [
    "print(np.argmax(pridiction[12])) ### I randomly predicted the 12th image "
   ]
  },
  {
   "cell_type": "markdown",
   "metadata": {
    "id": "9TDCd4nv0Ush"
   },
   "source": [
    "### It's 9, Let's Vizualizing that image to confirm that prediction is correct"
   ]
  },
  {
   "cell_type": "code",
   "execution_count": 17,
   "metadata": {
    "colab": {
     "base_uri": "https://localhost:8080/",
     "height": 282
    },
    "id": "s0bk0v9gaAOg",
    "outputId": "255989ac-0234-4a76-d011-7e722e953474"
   },
   "outputs": [
    {
     "data": {
      "text/plain": [
       "<matplotlib.image.AxesImage at 0x7f98e2f4ee90>"
      ]
     },
     "execution_count": 17,
     "metadata": {},
     "output_type": "execute_result"
    },
    {
     "data": {
      "image/png": "[encoded data removed]",
      "text/plain": [
       "<Figure size 432x288 with 1 Axes>"
      ]
     },
     "metadata": {
      "needs_background": "light"
     },
     "output_type": "display_data"
    }
   ],
   "source": [
    "plt.imshow(x_test[12], cmap=plt.cm.binary)"
   ]
  },
  {
   "cell_type": "markdown",
   "metadata": {
    "id": "R7QwAzRV0r-s"
   },
   "source": [
    "## Yes, 12th image is 9, that means prediction is correct"
   ]
  },
  {
   "cell_type": "markdown",
   "metadata": {
    "id": "LYZrAbVv07y0"
   },
   "source": [
    "## Let's visualize train loss function vs validation loss function "
   ]
  },
  {
   "cell_type": "markdown",
   "metadata": {
    "id": "TnUbkvvw1m1x"
   },
   "source": [
    "## Plotting loss functions\n"
   ]
  },
  {
   "cell_type": "code",
   "execution_count": 18,
   "metadata": {
    "colab": {
     "base_uri": "https://localhost:8080/",
     "height": 295
    },
    "id": "JuIEROKPRdB3",
    "outputId": "a94caa5e-fd3e-446f-dff4-bfe11645133a"
   },
   "outputs": [
    {
     "data": {
      "image/png": "[encoded data removed]",
      "text/plain": [
       "<Figure size 432x288 with 1 Axes>"
      ]
     },
     "metadata": {
      "needs_background": "light"
     },
     "output_type": "display_data"
    }
   ],
   "source": [
    "loss_train = history.history['loss']\n",
    "loss_val = history.history['val_loss']\n",
    "epochs = range(1,21)\n",
    "plt.plot(epochs, loss_train, 'g', label='Training loss')\n",
    "plt.plot(epochs, loss_val, 'b', label='validation loss')\n",
    "plt.title('Training and Validation loss')\n",
    "plt.xlabel('Epochs')\n",
    "plt.ylabel('Loss')\n",
    "plt.legend()\n",
    "plt.show()"
   ]
  },
  {
   "cell_type": "markdown",
   "metadata": {
    "id": "e38BVIEF7QjU"
   },
   "source": [
    "## Discussion of Results\n",
    "Based on the accuracy of training, validation and test data. We can say that this CNN model is good enough to pridict hand written digits"
   ]
  },
  {
   "cell_type": "code",
   "execution_count": 19,
   "metadata": {
    "colab": {
     "base_uri": "https://localhost:8080/"
    },
    "id": "fIz8qOOUVE2D",
    "outputId": "56481640-f4e7-4769-85a1-f4b701cfcbb5"
   },
   "outputs": [
    {
     "name": "stdout",
     "output_type": "stream",
     "text": [
      "conv2d (3, 3, 1, 64)\n",
      "conv2d_1 (3, 3, 64, 64)\n",
      "conv2d_2 (3, 3, 64, 64)\n"
     ]
    }
   ],
   "source": [
    "from keras.models import Model\n",
    "for layer in model.layers:\n",
    "    if 'conv' in layer.name:\n",
    "        filters, bias= layer.get_weights()\n",
    "        print(layer.name, filters.shape)\n",
    "        "
   ]
  },
  {
   "cell_type": "code",
   "execution_count": 20,
   "metadata": {
    "id": "-_TlnkZ2VmXL"
   },
   "outputs": [],
   "source": [
    "f_min, f_max = filters.min(), filters.max()\n",
    "filters = (filters - f_min) / (f_max - f_min)"
   ]
  },
  {
   "cell_type": "code",
   "execution_count": 21,
   "metadata": {
    "colab": {
     "base_uri": "https://localhost:8080/",
     "height": 642
    },
    "id": "nQg3oV7KVqa_",
    "outputId": "b423cf02-b6a0-4e25-a734-292e255c133e"
   },
   "outputs": [
    {
     "data": {
      "image/png": "[encoded data removed]",
      "text/plain": [
       "<Figure size 576x864 with 16 Axes>"
      ]
     },
     "metadata": {},
     "output_type": "display_data"
    }
   ],
   "source": [
    "# plot filters\n",
    "\n",
    "fig1=plt.figure(figsize=(8, 12))\n",
    "columns = 4\n",
    "rows = 4\n",
    "n_filters = columns * rows\n",
    "for i in range(1, n_filters +1):\n",
    "    f = filters[:, :, :, i-1]\n",
    "    fig1 =plt.subplot(rows, columns, i)\n",
    "    fig1.set_xticks([])  #Turn off axis\n",
    "    fig1.set_yticks([])\n",
    "    plt.imshow(f[:, :, 0], cmap='gray') #Show only the filters from 0th channel (R)\n",
    "    #ix += 1\n",
    "plt.show() "
   ]
  },
  {
   "cell_type": "code",
   "execution_count": 22,
   "metadata": {
    "colab": {
     "base_uri": "https://localhost:8080/",
     "height": 1000
    },
    "id": "ZgymvsEkVz5Z",
    "outputId": "50746869-734e-48eb-ed11-d8b583a697f5"
   },
   "outputs": [
    {
     "name": "stdout",
     "output_type": "stream",
     "text": [
      "Model: \"model\"\n",
      "_________________________________________________________________\n",
      " Layer (type)                Output Shape              Param #   \n",
      "=================================================================\n",
      " conv2d_input (InputLayer)   [(None, 28, 28, 1)]       0         \n",
      "                                                                 \n",
      " conv2d (Conv2D)             (None, 26, 26, 64)        640       \n",
      "                                                                 \n",
      " activation (Activation)     (None, 26, 26, 64)        0         \n",
      "                                                                 \n",
      " max_pooling2d (MaxPooling2D  (None, 13, 13, 64)       0         \n",
      " )                                                               \n",
      "                                                                 \n",
      " dropout (Dropout)           (None, 13, 13, 64)        0         \n",
      "                                                                 \n",
      " conv2d_1 (Conv2D)           (None, 11, 11, 64)        36928     \n",
      "                                                                 \n",
      " activation_1 (Activation)   (None, 11, 11, 64)        0         \n",
      "                                                                 \n",
      " max_pooling2d_1 (MaxPooling  (None, 5, 5, 64)         0         \n",
      " 2D)                                                             \n",
      "                                                                 \n",
      " dropout_1 (Dropout)         (None, 5, 5, 64)          0         \n",
      "                                                                 \n",
      " conv2d_2 (Conv2D)           (None, 3, 3, 64)          36928     \n",
      "                                                                 \n",
      " activation_2 (Activation)   (None, 3, 3, 64)          0         \n",
      "                                                                 \n",
      "=================================================================\n",
      "Total params: 74,496\n",
      "Trainable params: 74,496\n",
      "Non-trainable params: 0\n",
      "_________________________________________________________________\n",
      "None\n"
     ]
    },
    {
     "data": {
      "image/png": "[encoded data removed]",
      "text/plain": [
       "<Figure size 864x864 with 16 Axes>"
      ]
     },
     "metadata": {},
     "output_type": "display_data"
    },
    {
     "data": {
      "image/png": "[encoded data removed]",
      "text/plain": [
       "<Figure size 864x864 with 16 Axes>"
      ]
     },
     "metadata": {},
     "output_type": "display_data"
    },
    {
     "data": {
      "image/png": "[encoded data removed]",
      "text/plain": [
       "<Figure size 864x864 with 16 Axes>"
      ]
     },
     "metadata": {},
     "output_type": "display_data"
    }
   ],
   "source": [
    "#### Now plot filter outputs    \n",
    "\n",
    "#Define a new truncated model to only include the conv layers of interest\n",
    "#conv_layer_index = [1, 5, 9]\n",
    "conv_layer_index = [1, 5, 9]  #TO define a shorter model\n",
    "outputs = [model.layers[i].output for i in conv_layer_index]\n",
    "model_short = Model(inputs=model.inputs, outputs=outputs)\n",
    "print(model_short.summary())\n",
    "feature_output = model_short.predict(x_test)\n",
    "columns = 4\n",
    "rows = 4\n",
    "for ftr in feature_output:\n",
    "    #pos = 1\n",
    "    fig=plt.figure(figsize=(12, 12))\n",
    "    for i in range(1, columns*rows +1):\n",
    "        fig =plt.subplot(rows, columns, i)\n",
    "        fig.set_xticks([])  #Turn off axis\n",
    "        fig.set_yticks([])\n",
    "        plt.imshow(ftr[0, :, :, i-1], cmap='gray')\n",
    "        #pos += 1\n",
    "    plt.show()"
   ]
  },
  {
   "cell_type": "markdown",
   "metadata": {
    "id": "hnVvuZW_YzID"
   },
   "source": [
    "# Tring to detect my handwritten image:"
   ]
  },
  {
   "cell_type": "markdown",
   "metadata": {
    "id": "UD8IH5MvMO_k"
   },
   "source": [
    "Let's import my handwritting image from google grive to colab, I used google colab, if you want you try with your comupter jupyter notebook"
   ]
  },
  {
   "cell_type": "code",
   "execution_count": 23,
   "metadata": {
    "colab": {
     "base_uri": "https://localhost:8080/"
    },
    "id": "uQiNwpkZWS9B",
    "outputId": "27458982-3c2b-4095-b084-7946e40fabfb"
   },
   "outputs": [
    {
     "name": "stdout",
     "output_type": "stream",
     "text": [
      "Mounted at /content/drive/\n"
     ]
    }
   ],
   "source": [
    "from google.colab import drive\n",
    "drive.mount('/content/drive/')"
   ]
  },
  {
   "cell_type": "code",
   "execution_count": 24,
   "metadata": {
    "id": "btvZiyXZZB34"
   },
   "outputs": [],
   "source": [
    "import cv2"
   ]
  },
  {
   "cell_type": "code",
   "execution_count": 25,
   "metadata": {
    "id": "BG0vqDNNbTQP"
   },
   "outputs": [],
   "source": [
    "img = cv2.imread(\"/content/drive/MyDrive/Colabfolder/mywritten.png\")"
   ]
  },
  {
   "cell_type": "markdown",
   "metadata": {
    "id": "0CXhPn66Me-l"
   },
   "source": [
    "Let's visualize that digit"
   ]
  },
  {
   "cell_type": "code",
   "execution_count": 26,
   "metadata": {
    "colab": {
     "base_uri": "https://localhost:8080/",
     "height": 286
    },
    "id": "TdqUMiToba6i",
    "outputId": "98809e39-109d-43ec-f526-8b3d06be3ed9"
   },
   "outputs": [
    {
     "data": {
      "text/plain": [
       "<matplotlib.image.AxesImage at 0x7f986b936cd0>"
      ]
     },
     "execution_count": 26,
     "metadata": {},
     "output_type": "execute_result"
    },
    {
     "data": {
      "image/png": "[encoded data removed]",
      "text/plain": [
       "<Figure size 432x288 with 1 Axes>"
      ]
     },
     "metadata": {
      "needs_background": "light"
     },
     "output_type": "display_data"
    }
   ],
   "source": [
    "plt.imshow(img)"
   ]
  },
  {
   "cell_type": "code",
   "execution_count": 27,
   "metadata": {
    "colab": {
     "base_uri": "https://localhost:8080/"
    },
    "id": "dxkO_R0Wbf-3",
    "outputId": "8a8edfc7-6fa9-4963-994f-505838ecaf8e"
   },
   "outputs": [
    {
     "data": {
      "text/plain": [
       "(535, 579, 3)"
      ]
     },
     "execution_count": 27,
     "metadata": {},
     "output_type": "execute_result"
    }
   ],
   "source": [
    "img.shape ### It was 6, with three diminestional as it is color image"
   ]
  },
  {
   "cell_type": "markdown",
   "metadata": {
    "id": "hKummczFM1ZB"
   },
   "source": [
    "Let's change the dimension and size of the image"
   ]
  },
  {
   "cell_type": "code",
   "execution_count": 28,
   "metadata": {
    "colab": {
     "base_uri": "https://localhost:8080/"
    },
    "id": "S5QR7gP6bqTT",
    "outputId": "64a10266-6b72-4060-94c2-5993d0570339"
   },
   "outputs": [
    {
     "data": {
      "text/plain": [
       "(535, 579)"
      ]
     },
     "execution_count": 28,
     "metadata": {},
     "output_type": "execute_result"
    }
   ],
   "source": [
    "grayimg= cv2.cvtColor(img,cv2.COLOR_BGR2GRAY)\n",
    "grayimg.shape"
   ]
  },
  {
   "cell_type": "code",
   "execution_count": 29,
   "metadata": {
    "colab": {
     "base_uri": "https://localhost:8080/"
    },
    "id": "qE3NqRlHb0bP",
    "outputId": "266ae156-a282-4192-e8de-511544803414"
   },
   "outputs": [
    {
     "data": {
      "text/plain": [
       "(28, 28)"
      ]
     },
     "execution_count": 29,
     "metadata": {},
     "output_type": "execute_result"
    }
   ],
   "source": [
    "resizedimg= cv2.resize(grayimg, (28,28), interpolation = cv2.INTER_AREA)\n",
    "resizedimg.shape"
   ]
  },
  {
   "cell_type": "code",
   "execution_count": 30,
   "metadata": {
    "colab": {
     "base_uri": "https://localhost:8080/"
    },
    "id": "pR2VDsMmcBVj",
    "outputId": "a82dd448-9f00-454a-c87d-8e04e89ba3ee"
   },
   "outputs": [
    {
     "data": {
      "text/plain": [
       "(1, 28, 28, 1)"
      ]
     },
     "execution_count": 30,
     "metadata": {},
     "output_type": "execute_result"
    }
   ],
   "source": [
    "newimage = tf.keras.utils.normalize(resizedimg, axis= 1)\n",
    "newimg = np.array(newimage).reshape(-1, IMG_SIZE,IMG_SIZE, 1)\n",
    "newimg.shape"
   ]
  },
  {
   "cell_type": "code",
   "execution_count": 31,
   "metadata": {
    "colab": {
     "base_uri": "https://localhost:8080/"
    },
    "id": "Rde4DeKYcKIa",
    "outputId": "ef53859f-658b-4a81-c2b5-88c5ef3d1e8c"
   },
   "outputs": [
    {
     "data": {
      "text/plain": [
       "array([[2.9291756e-05, 5.1886354e-07, 1.0950118e-06, 3.8484012e-07,\n",
       "        3.3536996e-04, 2.0512333e-04, 9.9937397e-01, 8.6168486e-09,\n",
       "        2.5787760e-05, 2.8429396e-05]], dtype=float32)"
      ]
     },
     "execution_count": 31,
     "metadata": {},
     "output_type": "execute_result"
    }
   ],
   "source": [
    "myimage = model.predict(newimg)\n",
    "myimage"
   ]
  },
  {
   "cell_type": "markdown",
   "metadata": {
    "id": "DiPu801sNCUX"
   },
   "source": [
    "Based on the probability value, it should be six, Let's print it"
   ]
  },
  {
   "cell_type": "code",
   "execution_count": 32,
   "metadata": {
    "colab": {
     "base_uri": "https://localhost:8080/"
    },
    "id": "ser4b1qCcPVS",
    "outputId": "8f3cdb5f-a554-4ce2-bc32-479da532a00e"
   },
   "outputs": [
    {
     "name": "stdout",
     "output_type": "stream",
     "text": [
      "6\n"
     ]
    }
   ],
   "source": [
    "print(np.argmax(myimage))"
   ]
  },
  {
   "cell_type": "markdown",
   "metadata": {
    "id": "aLz8LX0r8yJP"
   },
   "source": [
    "## Conclusion:\n",
    "This model can successfully detect my hand written digit as well. Based on overall accuracy and the loss function graph. It is a good CNN model to detect hand written digits images "
   ]
  },
  {
   "cell_type": "code",
   "execution_count": null,
   "metadata": {
    "id": "ZA7mdDdGcVZN"
   },
   "outputs": [],
   "source": []
  }
 ],
 "metadata": {
  "accelerator": "GPU",
  "colab": {
   "name": "Assignment_6_Md_Kamrul_Islam.ipynb",
   "provenance": []
  },
  "kernelspec": {
   "display_name": "Python 3",
   "language": "python",
   "name": "python3"
  },
  "language_info": {
   "codemirror_mode": {
    "name": "ipython",
    "version": 3
   },
   "file_extension": ".py",
   "mimetype": "text/x-python",
   "name": "python",
   "nbconvert_exporter": "python",
   "pygments_lexer": "ipython3",
   "version": "3.8.8"
  }
 },
 "nbformat": 4,
 "nbformat_minor": 1
}
