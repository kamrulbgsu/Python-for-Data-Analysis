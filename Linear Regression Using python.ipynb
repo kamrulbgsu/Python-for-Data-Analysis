{
 "cells": [
  {
   "cell_type": "markdown",
   "id": "d75a2250",
   "metadata": {},
   "source": [
    "# Linear Regression\n",
    "## Prepared By: Md Kamrul Islam"
   ]
  },
  {
   "cell_type": "code",
   "execution_count": 1,
   "id": "ef020c59",
   "metadata": {},
   "outputs": [],
   "source": [
    "###Importing Necessary Library\n",
    "import pandas as pd\n",
    "import numpy as np\n",
    "import seaborn as sns\n",
    "import statsmodels.formula.api as smf # Statsmodels - https://www.statsmodels.org/stable/index.html\n",
    "from sklearn import linear_model # ScikitLearn - https://scikit-learn.org/ \n",
    "import matplotlib.pyplot as plt"
   ]
  },
  {
   "cell_type": "code",
   "execution_count": 2,
   "id": "ca7487a1",
   "metadata": {},
   "outputs": [
    {
     "data": {
      "text/html": [
       "<div>\n",
       "<style scoped>\n",
       "    .dataframe tbody tr th:only-of-type {\n",
       "        vertical-align: middle;\n",
       "    }\n",
       "\n",
       "    .dataframe tbody tr th {\n",
       "        vertical-align: top;\n",
       "    }\n",
       "\n",
       "    .dataframe thead th {\n",
       "        text-align: right;\n",
       "    }\n",
       "</style>\n",
       "<table border=\"1\" class=\"dataframe\">\n",
       "  <thead>\n",
       "    <tr style=\"text-align: right;\">\n",
       "      <th></th>\n",
       "      <th>x</th>\n",
       "      <th>y</th>\n",
       "    </tr>\n",
       "  </thead>\n",
       "  <tbody>\n",
       "    <tr>\n",
       "      <th>0</th>\n",
       "      <td>0.86</td>\n",
       "      <td>2.49</td>\n",
       "    </tr>\n",
       "    <tr>\n",
       "      <th>1</th>\n",
       "      <td>0.09</td>\n",
       "      <td>0.83</td>\n",
       "    </tr>\n",
       "    <tr>\n",
       "      <th>2</th>\n",
       "      <td>-0.85</td>\n",
       "      <td>-0.25</td>\n",
       "    </tr>\n",
       "    <tr>\n",
       "      <th>3</th>\n",
       "      <td>0.87</td>\n",
       "      <td>3.10</td>\n",
       "    </tr>\n",
       "    <tr>\n",
       "      <th>4</th>\n",
       "      <td>-0.44</td>\n",
       "      <td>0.87</td>\n",
       "    </tr>\n",
       "  </tbody>\n",
       "</table>\n",
       "</div>"
      ],
      "text/plain": [
       "      x     y\n",
       "0  0.86  2.49\n",
       "1  0.09  0.83\n",
       "2 -0.85 -0.25\n",
       "3  0.87  3.10\n",
       "4 -0.44  0.87"
      ]
     },
     "execution_count": 2,
     "metadata": {},
     "output_type": "execute_result"
    }
   ],
   "source": [
    "### importing data\n",
    "df = pd.read_csv(\"C:\\\\Users\\\\msi\\Desktop\\\\Programming\\\\Linear Modeling\\\\LinearModeling.csv\")\n",
    "df.head()"
   ]
  },
  {
   "cell_type": "code",
   "execution_count": 3,
   "id": "683beb95",
   "metadata": {},
   "outputs": [
    {
     "name": "stderr",
     "output_type": "stream",
     "text": [
      "C:\\Users\\msi\\anaconda3\\lib\\site-packages\\scipy\\stats\\stats.py:1603: UserWarning: kurtosistest only valid for n>=20 ... continuing anyway, n=10\n",
      "  warnings.warn(\"kurtosistest only valid for n>=20 ... continuing \"\n"
     ]
    },
    {
     "data": {
      "text/html": [
       "<table class=\"simpletable\">\n",
       "<caption>OLS Regression Results</caption>\n",
       "<tr>\n",
       "  <th>Dep. Variable:</th>            <td>y</td>        <th>  R-squared:         </th> <td>   0.846</td>\n",
       "</tr>\n",
       "<tr>\n",
       "  <th>Model:</th>                   <td>OLS</td>       <th>  Adj. R-squared:    </th> <td>   0.826</td>\n",
       "</tr>\n",
       "<tr>\n",
       "  <th>Method:</th>             <td>Least Squares</td>  <th>  F-statistic:       </th> <td>   43.82</td>\n",
       "</tr>\n",
       "<tr>\n",
       "  <th>Date:</th>             <td>Sun, 07 Nov 2021</td> <th>  Prob (F-statistic):</th> <td>0.000166</td>\n",
       "</tr>\n",
       "<tr>\n",
       "  <th>Time:</th>                 <td>16:37:22</td>     <th>  Log-Likelihood:    </th> <td> -6.7092</td>\n",
       "</tr>\n",
       "<tr>\n",
       "  <th>No. Observations:</th>      <td>    10</td>      <th>  AIC:               </th> <td>   17.42</td>\n",
       "</tr>\n",
       "<tr>\n",
       "  <th>Df Residuals:</th>          <td>     8</td>      <th>  BIC:               </th> <td>   18.02</td>\n",
       "</tr>\n",
       "<tr>\n",
       "  <th>Df Model:</th>              <td>     1</td>      <th>                     </th>     <td> </td>   \n",
       "</tr>\n",
       "<tr>\n",
       "  <th>Covariance Type:</th>      <td>nonrobust</td>    <th>                     </th>     <td> </td>   \n",
       "</tr>\n",
       "</table>\n",
       "<table class=\"simpletable\">\n",
       "<tr>\n",
       "      <td></td>         <th>coef</th>     <th>std err</th>      <th>t</th>      <th>P>|t|</th>  <th>[0.025</th>    <th>0.975]</th>  \n",
       "</tr>\n",
       "<tr>\n",
       "  <th>Intercept</th> <td>    1.0588</td> <td>    0.171</td> <td>    6.202</td> <td> 0.000</td> <td>    0.665</td> <td>    1.452</td>\n",
       "</tr>\n",
       "<tr>\n",
       "  <th>x</th>         <td>    1.6102</td> <td>    0.243</td> <td>    6.620</td> <td> 0.000</td> <td>    1.049</td> <td>    2.171</td>\n",
       "</tr>\n",
       "</table>\n",
       "<table class=\"simpletable\">\n",
       "<tr>\n",
       "  <th>Omnibus:</th>       <td> 0.266</td> <th>  Durbin-Watson:     </th> <td>   1.383</td>\n",
       "</tr>\n",
       "<tr>\n",
       "  <th>Prob(Omnibus):</th> <td> 0.875</td> <th>  Jarque-Bera (JB):  </th> <td>   0.404</td>\n",
       "</tr>\n",
       "<tr>\n",
       "  <th>Skew:</th>          <td>-0.242</td> <th>  Prob(JB):          </th> <td>   0.817</td>\n",
       "</tr>\n",
       "<tr>\n",
       "  <th>Kurtosis:</th>      <td> 2.143</td> <th>  Cond. No.          </th> <td>    1.51</td>\n",
       "</tr>\n",
       "</table><br/><br/>Notes:<br/>[1] Standard Errors assume that the covariance matrix of the errors is correctly specified."
      ],
      "text/plain": [
       "<class 'statsmodels.iolib.summary.Summary'>\n",
       "\"\"\"\n",
       "                            OLS Regression Results                            \n",
       "==============================================================================\n",
       "Dep. Variable:                      y   R-squared:                       0.846\n",
       "Model:                            OLS   Adj. R-squared:                  0.826\n",
       "Method:                 Least Squares   F-statistic:                     43.82\n",
       "Date:                Sun, 07 Nov 2021   Prob (F-statistic):           0.000166\n",
       "Time:                        16:37:22   Log-Likelihood:                -6.7092\n",
       "No. Observations:                  10   AIC:                             17.42\n",
       "Df Residuals:                       8   BIC:                             18.02\n",
       "Df Model:                           1                                         \n",
       "Covariance Type:            nonrobust                                         \n",
       "==============================================================================\n",
       "                 coef    std err          t      P>|t|      [0.025      0.975]\n",
       "------------------------------------------------------------------------------\n",
       "Intercept      1.0588      0.171      6.202      0.000       0.665       1.452\n",
       "x              1.6102      0.243      6.620      0.000       1.049       2.171\n",
       "==============================================================================\n",
       "Omnibus:                        0.266   Durbin-Watson:                   1.383\n",
       "Prob(Omnibus):                  0.875   Jarque-Bera (JB):                0.404\n",
       "Skew:                          -0.242   Prob(JB):                        0.817\n",
       "Kurtosis:                       2.143   Cond. No.                         1.51\n",
       "==============================================================================\n",
       "\n",
       "Notes:\n",
       "[1] Standard Errors assume that the covariance matrix of the errors is correctly specified.\n",
       "\"\"\""
      ]
     },
     "execution_count": 3,
     "metadata": {},
     "output_type": "execute_result"
    }
   ],
   "source": [
    "### Using statsmodels.formula.api for running regression\n",
    "model = smf.ols('y ~ x', data=df)\n",
    "results = model.fit()\n",
    "results.summary()"
   ]
  },
  {
   "cell_type": "code",
   "execution_count": 4,
   "id": "e2e4d285",
   "metadata": {},
   "outputs": [
    {
     "data": {
      "text/plain": [
       "Intercept    1.058813\n",
       "x            1.610168\n",
       "dtype: float64"
      ]
     },
     "execution_count": 4,
     "metadata": {},
     "output_type": "execute_result"
    }
   ],
   "source": [
    "### Seperating the intercept and estimate(coefficent) of varialbe\n",
    "results.params"
   ]
  },
  {
   "cell_type": "code",
   "execution_count": 5,
   "id": "307e6261",
   "metadata": {},
   "outputs": [
    {
     "data": {
      "text/plain": [
       "Text(0.5, 1.0, 'Predicted trend line over scatter plot')"
      ]
     },
     "execution_count": 5,
     "metadata": {},
     "output_type": "execute_result"
    },
    {
     "data": {
      "image/png": "[encoded data removed]",
      "text/plain": [
       "<Figure size 432x288 with 1 Axes>"
      ]
     },
     "metadata": {
      "needs_background": "light"
     },
     "output_type": "display_data"
    }
   ],
   "source": [
    "## Plotting predicted value with scatter plotting of data\n",
    "yPredicted = results.predict(df['x'])\n",
    "plt.scatter(df['x'], df['y'],color='blue')\n",
    "plt.plot(df['x'], yPredicted, color='brown', linewidth=2.5)\n",
    "plt.xlabel('x value')\n",
    "plt.ylabel('y value')\n",
    "plt.title(\"Predicted trend line over scatter plot\")"
   ]
  },
  {
   "cell_type": "code",
   "execution_count": 6,
   "id": "5a1ac428",
   "metadata": {},
   "outputs": [
    {
     "data": {
      "text/plain": [
       "Text(0.5, 1.0, 'Regression trendline')"
      ]
     },
     "execution_count": 6,
     "metadata": {},
     "output_type": "execute_result"
    },
    {
     "data": {
      "image/png": "[encoded data removed]",
      "text/plain": [
       "<Figure size 432x288 with 1 Axes>"
      ]
     },
     "metadata": {
      "needs_background": "light"
     },
     "output_type": "display_data"
    }
   ],
   "source": [
    "### Plotting as scatter plot and uing terndline to see the regression line\n",
    "sns.regplot(x=\"x\", y=\"y\", data=df, color = \"red\")\n",
    "plt.xlabel('x value')\n",
    "plt.ylabel('y value')\n",
    "plt.title(\"Regression trendline\")"
   ]
  },
  {
   "cell_type": "code",
   "execution_count": 7,
   "id": "b08d6e2c",
   "metadata": {},
   "outputs": [
    {
     "name": "stdout",
     "output_type": "stream",
     "text": [
      "R squared: 0.8456217909526552\n",
      "Intercept: 1.0588134099884003\n",
      "Estimate or co-efficent of variable: [1.61016842]\n"
     ]
    }
   ],
   "source": [
    "## Using sklearn for linear regression\n",
    "lm = linear_model.LinearRegression()\n",
    "## Reshaping the x value of the data to match with the \n",
    "X = df['x'].values.reshape(-1, 1)\n",
    "y = df['y']\n",
    "model = lm.fit(X,y)\n",
    "predictions = model.predict(X)\n",
    "## R-squared value\n",
    "r_sq = model.score(X, y)\n",
    "print('R squared:', r_sq )\n",
    "### Intercept\n",
    "print('Intercept:', model.intercept_)\n",
    "### Slope of the variables\n",
    "print('Estimate or co-efficent of variable:', model.coef_)"
   ]
  },
  {
   "cell_type": "code",
   "execution_count": 8,
   "id": "4b78ff95",
   "metadata": {},
   "outputs": [
    {
     "name": "stdout",
     "output_type": "stream",
     "text": [
      "R squared: 0.84562 \n",
      " Intercept: 1.05881 \n",
      " Estimate: [1.61017]\n"
     ]
    }
   ],
   "source": [
    "### Rounding the value up to the five precisions value\n",
    "r_sq = np.round(r_sq,5)\n",
    "intercept = np.round(model.intercept_, 5)\n",
    "coeff= np.round(model.coef_, 5)\n",
    "print('R squared:', r_sq, \"\\n\",'Intercept:', intercept,\"\\n\", \"Estimate:\", coeff )"
   ]
  },
  {
   "cell_type": "code",
   "execution_count": 9,
   "id": "bea7fbfc",
   "metadata": {},
   "outputs": [
    {
     "data": {
      "text/plain": [
       "Text(0.5, 1.0, 'Predicted trend line over scatter plot')"
      ]
     },
     "execution_count": 9,
     "metadata": {},
     "output_type": "execute_result"
    },
    {
     "data": {
      "image/png": "[encoded data removed]",
      "text/plain": [
       "<Figure size 432x288 with 1 Axes>"
      ]
     },
     "metadata": {
      "needs_background": "light"
     },
     "output_type": "display_data"
    }
   ],
   "source": [
    "### Plotting the prediced y value with scatterplot of actual y value and x value\n",
    "plt.scatter(df['x'], df['y'],  color='black')\n",
    "plt.plot(df['x'], predictions, color='pink', linewidth=4)\n",
    "plt.xlabel('x value')\n",
    "plt.ylabel('y value')\n",
    "plt.title(\"Predicted trend line over scatter plot\")"
   ]
  },
  {
   "cell_type": "code",
   "execution_count": 10,
   "id": "e12e53e4",
   "metadata": {
    "scrolled": false
   },
   "outputs": [
    {
     "name": "stdout",
     "output_type": "stream",
     "text": [
      "R-squared: 0.84562 \n",
      "    Coefficients  Standard Errors   t value   P-value\n",
      "0      1.058813         0.170719  6.202069  0.000259\n",
      "1      1.610168         0.243238  6.619727  0.000166\n"
     ]
    }
   ],
   "source": [
    "### Finding t-value, standard error and p value of the model\n",
    "# For this we need stats library\n",
    "from scipy import stats\n",
    "params = np.append(model.intercept_,lm.coef_)\n",
    "newX = np.append(np.ones((len(X),1)), X, axis=1)\n",
    "MSE = (sum((y-predictions)**2))/(len(newX)-len(newX[0]))\n",
    "var_b = MSE*(np.linalg.inv(np.dot(newX.T,newX)).diagonal())\n",
    "sd_b = np.sqrt(var_b)\n",
    "ts_b = params/ sd_b\n",
    "\n",
    "p_values =[2*(1-stats.t.cdf(np.abs(i),(len(newX)-len(newX[0])))) for i in ts_b]\n",
    "### Showing Summary of the model \n",
    "summary = pd.DataFrame()\n",
    "summary[\"Coefficients\"],summary[\"Standard Errors\"],summary[\"t value\"],summary[\"P-value\"] = [params,sd_b,ts_b,p_values]\n",
    "print(\"R-squared:\", r_sq,\"\\n\", summary)\n"
   ]
  },
  {
   "cell_type": "markdown",
   "id": "2ee4292b",
   "metadata": {},
   "source": [
    "                                           "
   ]
  }
 ],
 "metadata": {
  "kernelspec": {
   "display_name": "Python 3",
   "language": "python",
   "name": "python3"
  },
  "language_info": {
   "codemirror_mode": {
    "name": "ipython",
    "version": 3
   },
   "file_extension": ".py",
   "mimetype": "text/x-python",
   "name": "python",
   "nbconvert_exporter": "python",
   "pygments_lexer": "ipython3",
   "version": "3.8.8"
  }
 },
 "nbformat": 4,
 "nbformat_minor": 5
}
