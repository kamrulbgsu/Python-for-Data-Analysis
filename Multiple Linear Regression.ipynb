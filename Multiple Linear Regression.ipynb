{
 "cells": [
  {
   "cell_type": "markdown",
   "metadata": {},
   "source": [
    "### Assignment 2\n",
    "### CS/DATA 7200 - Machine Learning\n",
    "### Instructor: Dr.Qing Tian\n",
    "### Sumbitted By: Md Kamrul Islam"
   ]
  },
  {
   "cell_type": "code",
   "execution_count": 1,
   "metadata": {},
   "outputs": [],
   "source": [
    "# some libraries that you may or may not use\n",
    "# feel free to import other libraries if necessary\n",
    "import pandas as pd\n",
    "import numpy as np\n",
    "from sklearn import preprocessing\n",
    "from sklearn.linear_model import SGDRegressor, LinearRegression\n",
    "from sklearn.model_selection import train_test_split\n",
    "from sklearn.metrics import mean_squared_error"
   ]
  },
  {
   "cell_type": "code",
   "execution_count": 2,
   "metadata": {},
   "outputs": [],
   "source": [
    "def RMSE(yHat, y):\n",
    "    RMSE = mean_squared_error(yHat, y, squared = False)\n",
    "    return RMSE\n",
    "\n",
    "# TODO: calculate and return Root Mean Square Error (RMSE)\n",
    "# Hint: you can either code yourself or use the mean_squared_error function from sklearn.metrics"
   ]
  },
  {
   "cell_type": "code",
   "execution_count": 4,
   "metadata": {},
   "outputs": [
    {
     "data": {
      "text/html": [
       "<div>\n",
       "<style scoped>\n",
       "    .dataframe tbody tr th:only-of-type {\n",
       "        vertical-align: middle;\n",
       "    }\n",
       "\n",
       "    .dataframe tbody tr th {\n",
       "        vertical-align: top;\n",
       "    }\n",
       "\n",
       "    .dataframe thead th {\n",
       "        text-align: right;\n",
       "    }\n",
       "</style>\n",
       "<table border=\"1\" class=\"dataframe\">\n",
       "  <thead>\n",
       "    <tr style=\"text-align: right;\">\n",
       "      <th></th>\n",
       "      <th>X</th>\n",
       "      <th>Y</th>\n",
       "      <th>month</th>\n",
       "      <th>day</th>\n",
       "      <th>FFMC</th>\n",
       "      <th>DMC</th>\n",
       "      <th>DC</th>\n",
       "      <th>ISI</th>\n",
       "      <th>temp</th>\n",
       "      <th>RH</th>\n",
       "      <th>wind</th>\n",
       "      <th>rain</th>\n",
       "    </tr>\n",
       "  </thead>\n",
       "  <tbody>\n",
       "    <tr>\n",
       "      <th>154</th>\n",
       "      <td>1</td>\n",
       "      <td>5</td>\n",
       "      <td>sep</td>\n",
       "      <td>sat</td>\n",
       "      <td>93.4</td>\n",
       "      <td>145.4</td>\n",
       "      <td>721.4</td>\n",
       "      <td>8.1</td>\n",
       "      <td>29.6</td>\n",
       "      <td>27</td>\n",
       "      <td>2.7</td>\n",
       "      <td>0.0</td>\n",
       "    </tr>\n",
       "    <tr>\n",
       "      <th>117</th>\n",
       "      <td>3</td>\n",
       "      <td>4</td>\n",
       "      <td>mar</td>\n",
       "      <td>sat</td>\n",
       "      <td>91.7</td>\n",
       "      <td>35.8</td>\n",
       "      <td>80.8</td>\n",
       "      <td>7.8</td>\n",
       "      <td>15.2</td>\n",
       "      <td>27</td>\n",
       "      <td>4.9</td>\n",
       "      <td>0.0</td>\n",
       "    </tr>\n",
       "    <tr>\n",
       "      <th>390</th>\n",
       "      <td>7</td>\n",
       "      <td>4</td>\n",
       "      <td>feb</td>\n",
       "      <td>mon</td>\n",
       "      <td>84.7</td>\n",
       "      <td>9.5</td>\n",
       "      <td>58.3</td>\n",
       "      <td>4.1</td>\n",
       "      <td>7.5</td>\n",
       "      <td>71</td>\n",
       "      <td>6.3</td>\n",
       "      <td>0.0</td>\n",
       "    </tr>\n",
       "    <tr>\n",
       "      <th>473</th>\n",
       "      <td>9</td>\n",
       "      <td>4</td>\n",
       "      <td>jun</td>\n",
       "      <td>sat</td>\n",
       "      <td>90.5</td>\n",
       "      <td>61.1</td>\n",
       "      <td>252.6</td>\n",
       "      <td>9.4</td>\n",
       "      <td>24.5</td>\n",
       "      <td>50</td>\n",
       "      <td>3.1</td>\n",
       "      <td>0.0</td>\n",
       "    </tr>\n",
       "    <tr>\n",
       "      <th>127</th>\n",
       "      <td>3</td>\n",
       "      <td>5</td>\n",
       "      <td>sep</td>\n",
       "      <td>fri</td>\n",
       "      <td>93.5</td>\n",
       "      <td>149.3</td>\n",
       "      <td>728.6</td>\n",
       "      <td>8.1</td>\n",
       "      <td>17.2</td>\n",
       "      <td>43</td>\n",
       "      <td>3.1</td>\n",
       "      <td>0.0</td>\n",
       "    </tr>\n",
       "  </tbody>\n",
       "</table>\n",
       "</div>"
      ],
      "text/plain": [
       "     X  Y month  day  FFMC    DMC     DC  ISI  temp  RH  wind  rain\n",
       "154  1  5   sep  sat  93.4  145.4  721.4  8.1  29.6  27   2.7   0.0\n",
       "117  3  4   mar  sat  91.7   35.8   80.8  7.8  15.2  27   4.9   0.0\n",
       "390  7  4   feb  mon  84.7    9.5   58.3  4.1   7.5  71   6.3   0.0\n",
       "473  9  4   jun  sat  90.5   61.1  252.6  9.4  24.5  50   3.1   0.0\n",
       "127  3  5   sep  fri  93.5  149.3  728.6  8.1  17.2  43   3.1   0.0"
      ]
     },
     "execution_count": 4,
     "metadata": {},
     "output_type": "execute_result"
    }
   ],
   "source": [
    "# load the data (the UCI forestfires dataset)\n",
    "df = pd.read_csv(\"https://archive.ics.uci.edu/ml/machine-learning-databases/forest-fires/forestfires.csv\")\n",
    "x = df.iloc[:, 0:12]\n",
    "y = df.iloc[:, 12:13] # last column as the label column \n",
    "x.sample(5)"
   ]
  },
  {
   "cell_type": "code",
   "execution_count": 5,
   "metadata": {},
   "outputs": [
    {
     "data": {
      "text/html": [
       "<div>\n",
       "<style scoped>\n",
       "    .dataframe tbody tr th:only-of-type {\n",
       "        vertical-align: middle;\n",
       "    }\n",
       "\n",
       "    .dataframe tbody tr th {\n",
       "        vertical-align: top;\n",
       "    }\n",
       "\n",
       "    .dataframe thead th {\n",
       "        text-align: right;\n",
       "    }\n",
       "</style>\n",
       "<table border=\"1\" class=\"dataframe\">\n",
       "  <thead>\n",
       "    <tr style=\"text-align: right;\">\n",
       "      <th></th>\n",
       "      <th>area</th>\n",
       "    </tr>\n",
       "  </thead>\n",
       "  <tbody>\n",
       "    <tr>\n",
       "      <th>139</th>\n",
       "      <td>0.43</td>\n",
       "    </tr>\n",
       "    <tr>\n",
       "      <th>124</th>\n",
       "      <td>0.00</td>\n",
       "    </tr>\n",
       "    <tr>\n",
       "      <th>416</th>\n",
       "      <td>7.02</td>\n",
       "    </tr>\n",
       "    <tr>\n",
       "      <th>221</th>\n",
       "      <td>35.88</td>\n",
       "    </tr>\n",
       "    <tr>\n",
       "      <th>455</th>\n",
       "      <td>0.00</td>\n",
       "    </tr>\n",
       "  </tbody>\n",
       "</table>\n",
       "</div>"
      ],
      "text/plain": [
       "      area\n",
       "139   0.43\n",
       "124   0.00\n",
       "416   7.02\n",
       "221  35.88\n",
       "455   0.00"
      ]
     },
     "execution_count": 5,
     "metadata": {},
     "output_type": "execute_result"
    }
   ],
   "source": [
    "# Let's see the y value as well\n",
    "y.sample(5)"
   ]
  },
  {
   "cell_type": "code",
   "execution_count": 6,
   "metadata": {},
   "outputs": [
    {
     "data": {
      "text/html": [
       "<div>\n",
       "<style scoped>\n",
       "    .dataframe tbody tr th:only-of-type {\n",
       "        vertical-align: middle;\n",
       "    }\n",
       "\n",
       "    .dataframe tbody tr th {\n",
       "        vertical-align: top;\n",
       "    }\n",
       "\n",
       "    .dataframe thead th {\n",
       "        text-align: right;\n",
       "    }\n",
       "</style>\n",
       "<table border=\"1\" class=\"dataframe\">\n",
       "  <thead>\n",
       "    <tr style=\"text-align: right;\">\n",
       "      <th></th>\n",
       "      <th>X</th>\n",
       "      <th>Y</th>\n",
       "      <th>month</th>\n",
       "      <th>day</th>\n",
       "      <th>FFMC</th>\n",
       "      <th>DMC</th>\n",
       "      <th>DC</th>\n",
       "      <th>ISI</th>\n",
       "      <th>temp</th>\n",
       "      <th>RH</th>\n",
       "      <th>wind</th>\n",
       "      <th>rain</th>\n",
       "    </tr>\n",
       "  </thead>\n",
       "  <tbody>\n",
       "    <tr>\n",
       "      <th>253</th>\n",
       "      <td>7</td>\n",
       "      <td>4</td>\n",
       "      <td>1</td>\n",
       "      <td>4</td>\n",
       "      <td>91.9</td>\n",
       "      <td>109.2</td>\n",
       "      <td>565.5</td>\n",
       "      <td>8.0</td>\n",
       "      <td>21.4</td>\n",
       "      <td>38</td>\n",
       "      <td>2.7</td>\n",
       "      <td>0.0</td>\n",
       "    </tr>\n",
       "    <tr>\n",
       "      <th>107</th>\n",
       "      <td>4</td>\n",
       "      <td>5</td>\n",
       "      <td>1</td>\n",
       "      <td>3</td>\n",
       "      <td>90.2</td>\n",
       "      <td>99.6</td>\n",
       "      <td>631.2</td>\n",
       "      <td>6.3</td>\n",
       "      <td>21.4</td>\n",
       "      <td>33</td>\n",
       "      <td>3.1</td>\n",
       "      <td>0.0</td>\n",
       "    </tr>\n",
       "    <tr>\n",
       "      <th>312</th>\n",
       "      <td>2</td>\n",
       "      <td>4</td>\n",
       "      <td>11</td>\n",
       "      <td>3</td>\n",
       "      <td>50.4</td>\n",
       "      <td>46.2</td>\n",
       "      <td>706.6</td>\n",
       "      <td>0.4</td>\n",
       "      <td>12.2</td>\n",
       "      <td>78</td>\n",
       "      <td>6.3</td>\n",
       "      <td>0.0</td>\n",
       "    </tr>\n",
       "    <tr>\n",
       "      <th>252</th>\n",
       "      <td>6</td>\n",
       "      <td>5</td>\n",
       "      <td>1</td>\n",
       "      <td>6</td>\n",
       "      <td>93.1</td>\n",
       "      <td>157.3</td>\n",
       "      <td>666.7</td>\n",
       "      <td>13.5</td>\n",
       "      <td>22.1</td>\n",
       "      <td>37</td>\n",
       "      <td>3.6</td>\n",
       "      <td>0.0</td>\n",
       "    </tr>\n",
       "    <tr>\n",
       "      <th>491</th>\n",
       "      <td>4</td>\n",
       "      <td>4</td>\n",
       "      <td>1</td>\n",
       "      <td>4</td>\n",
       "      <td>95.8</td>\n",
       "      <td>152.0</td>\n",
       "      <td>624.1</td>\n",
       "      <td>13.8</td>\n",
       "      <td>32.4</td>\n",
       "      <td>21</td>\n",
       "      <td>4.5</td>\n",
       "      <td>0.0</td>\n",
       "    </tr>\n",
       "  </tbody>\n",
       "</table>\n",
       "</div>"
      ],
      "text/plain": [
       "     X  Y  month  day  FFMC    DMC     DC   ISI  temp  RH  wind  rain\n",
       "253  7  4      1    4  91.9  109.2  565.5   8.0  21.4  38   2.7   0.0\n",
       "107  4  5      1    3  90.2   99.6  631.2   6.3  21.4  33   3.1   0.0\n",
       "312  2  4     11    3  50.4   46.2  706.6   0.4  12.2  78   6.3   0.0\n",
       "252  6  5      1    6  93.1  157.3  666.7  13.5  22.1  37   3.6   0.0\n",
       "491  4  4      1    4  95.8  152.0  624.1  13.8  32.4  21   4.5   0.0"
      ]
     },
     "execution_count": 6,
     "metadata": {},
     "output_type": "execute_result"
    }
   ],
   "source": [
    "# some preprocessing\n",
    "# convert `month' and `day' to numerical values\n",
    "le = preprocessing.LabelEncoder()\n",
    "x[\"month\"] = le.fit_transform(x[\"month\"])\n",
    "x[\"day\"] = le.fit_transform(x[\"day\"])\n",
    "\n",
    "x.sample(5)"
   ]
  },
  {
   "cell_type": "code",
   "execution_count": 7,
   "metadata": {},
   "outputs": [],
   "source": [
    "# model construction, training, and evaluation\n",
    "# split the data into training and test sets\n",
    "xTrain, xTest, yTrain, yTest = train_test_split(x, y, test_size=0.33, random_state=42)\n",
    "\n",
    "# TODO: \n",
    "# (1) build and train a linear model on the train set\n",
    "# (2) calculate the RMSE error on the test set (use the function you defined earlier)\n"
   ]
  },
  {
   "cell_type": "code",
   "execution_count": 8,
   "metadata": {},
   "outputs": [
    {
     "data": {
      "text/plain": [
       "LinearRegression()"
      ]
     },
     "execution_count": 8,
     "metadata": {},
     "output_type": "execute_result"
    }
   ],
   "source": [
    "# Fitting the model\n",
    "model = LinearRegression()\n",
    "model.fit(xTrain, yTrain)"
   ]
  },
  {
   "cell_type": "code",
   "execution_count": 10,
   "metadata": {},
   "outputs": [
    {
     "name": "stdout",
     "output_type": "stream",
     "text": [
      "R squared: 0.04139599129038396\n",
      "Intercept: [12.27240116]\n",
      "Estimate or co-efficent of variable: [[ 2.30749309  0.08773786  0.0942854   0.97799506 -0.23069532  0.12763003\n",
      "  -0.01175462  0.10865407  0.23425468 -0.2352624   0.65215652 -2.87409294]]\n"
     ]
    }
   ],
   "source": [
    "### Let's see some details of the model\n",
    "## R-squared value\n",
    "r_sq = model.score(xTrain, yTrain)\n",
    "print('R squared:', r_sq )\n",
    "### Intercept\n",
    "print('Intercept:', model.intercept_)\n",
    "### Slope of the variables\n",
    "print('Estimate or co-efficent of variable:', model.coef_)"
   ]
  },
  {
   "cell_type": "code",
   "execution_count": 11,
   "metadata": {},
   "outputs": [
    {
     "data": {
      "text/plain": [
       "array([[ -4.02161578],\n",
       "       [ 19.11997044],\n",
       "       [ 30.81300277],\n",
       "       [  4.74133326],\n",
       "       [ 16.2424168 ],\n",
       "       [  2.41149441],\n",
       "       [  3.20196637],\n",
       "       [  6.33301528],\n",
       "       [  3.12807912],\n",
       "       [ -1.43970289],\n",
       "       [  8.33491971],\n",
       "       [  8.82537029],\n",
       "       [ 18.57459494],\n",
       "       [  1.59907715],\n",
       "       [ 11.17534079],\n",
       "       [  1.23436606],\n",
       "       [ -7.34432387],\n",
       "       [ 12.76587003],\n",
       "       [ 21.82354615],\n",
       "       [  8.37889086],\n",
       "       [  4.7173373 ],\n",
       "       [ 21.0578918 ],\n",
       "       [ 12.43865892],\n",
       "       [ 15.73433296],\n",
       "       [ -0.32363826],\n",
       "       [ 31.7799353 ],\n",
       "       [ 11.47245613],\n",
       "       [ 37.84623098],\n",
       "       [ 12.5143233 ],\n",
       "       [  7.80579501],\n",
       "       [ 12.19928544],\n",
       "       [ 19.56563872],\n",
       "       [  4.33606232],\n",
       "       [ 12.84759975],\n",
       "       [  9.8644378 ],\n",
       "       [ 24.22274439],\n",
       "       [ 10.74103752],\n",
       "       [ 15.01004743],\n",
       "       [ 18.08493706],\n",
       "       [  1.42955123],\n",
       "       [ 29.98621834],\n",
       "       [  6.24114704],\n",
       "       [ 11.62944222],\n",
       "       [ 17.74188038],\n",
       "       [ 21.94053347],\n",
       "       [ 30.13350039],\n",
       "       [-10.71527459],\n",
       "       [ 12.79611088],\n",
       "       [ 12.05422349],\n",
       "       [ 11.23994356],\n",
       "       [  7.1403135 ],\n",
       "       [ 18.80930059],\n",
       "       [ 20.57547029],\n",
       "       [  4.12903154],\n",
       "       [ 20.93465111],\n",
       "       [ 10.24028072],\n",
       "       [  5.50908047],\n",
       "       [ 14.17618991],\n",
       "       [ 11.09510942],\n",
       "       [ -0.24879255],\n",
       "       [ 13.67027454],\n",
       "       [ 11.76184041],\n",
       "       [ 22.03047376],\n",
       "       [  1.22620964],\n",
       "       [ 18.73006271],\n",
       "       [ 17.03233728],\n",
       "       [  8.56876259],\n",
       "       [ 30.69937985],\n",
       "       [ 17.76474011],\n",
       "       [  6.71913993],\n",
       "       [ 12.05497159],\n",
       "       [  5.26486394],\n",
       "       [ 24.05878124],\n",
       "       [-13.77783733],\n",
       "       [ 11.51483522],\n",
       "       [  7.96651797],\n",
       "       [ 13.33366387],\n",
       "       [ 16.2216697 ],\n",
       "       [ 10.94876108],\n",
       "       [ 13.93051974],\n",
       "       [  4.90932034],\n",
       "       [ 10.97242104],\n",
       "       [  5.8519509 ],\n",
       "       [  6.26746528],\n",
       "       [  4.92493582],\n",
       "       [-10.77933785],\n",
       "       [  3.54039307],\n",
       "       [  6.60788759],\n",
       "       [  2.10512144],\n",
       "       [ -0.31116485],\n",
       "       [ 22.80123081],\n",
       "       [  6.54581115],\n",
       "       [ 12.25401924],\n",
       "       [ -1.34679111],\n",
       "       [  6.56944064],\n",
       "       [ 11.39141018],\n",
       "       [  6.61034593],\n",
       "       [ 17.57426535],\n",
       "       [ 17.75224358],\n",
       "       [ 22.33271653],\n",
       "       [ -3.89909849],\n",
       "       [  5.66000045],\n",
       "       [ -6.72988405],\n",
       "       [ 17.8383197 ],\n",
       "       [ 10.38578311],\n",
       "       [  8.14030358],\n",
       "       [ 10.6397406 ],\n",
       "       [ 21.78720828],\n",
       "       [  1.07093217],\n",
       "       [ 15.9888947 ],\n",
       "       [ 10.5407645 ],\n",
       "       [  5.87809589],\n",
       "       [  8.1406328 ],\n",
       "       [  7.05406768],\n",
       "       [ 15.40906888],\n",
       "       [ 12.21822262],\n",
       "       [  6.39503884],\n",
       "       [  9.48709029],\n",
       "       [ 15.43059494],\n",
       "       [  4.99707994],\n",
       "       [ 22.83079367],\n",
       "       [ 15.74387489],\n",
       "       [  2.53274993],\n",
       "       [  8.69879957],\n",
       "       [ 23.26887898],\n",
       "       [  6.18684745],\n",
       "       [ 10.13914652],\n",
       "       [ -0.65794592],\n",
       "       [  1.80572338],\n",
       "       [  4.41261453],\n",
       "       [ 16.80456554],\n",
       "       [  6.56421815],\n",
       "       [  9.76516749],\n",
       "       [ 16.19979557],\n",
       "       [ 10.81225324],\n",
       "       [  7.73680892],\n",
       "       [ -4.16740097],\n",
       "       [ 23.09347856],\n",
       "       [ 13.04664106],\n",
       "       [  2.06470978],\n",
       "       [ -0.93674009],\n",
       "       [ -0.69788868],\n",
       "       [  1.32895248],\n",
       "       [  0.84189096],\n",
       "       [  0.36060893],\n",
       "       [ 18.12610379],\n",
       "       [ 24.50666772],\n",
       "       [ -3.73043767],\n",
       "       [  4.652353  ],\n",
       "       [ 24.07472242],\n",
       "       [  6.26094688],\n",
       "       [ 11.76184041],\n",
       "       [  4.92268163],\n",
       "       [ 19.99306504],\n",
       "       [ 41.80367157],\n",
       "       [ 19.67408013],\n",
       "       [ 15.09925533],\n",
       "       [  8.78154438],\n",
       "       [ 16.76244517],\n",
       "       [ 22.28720337],\n",
       "       [  6.18589116],\n",
       "       [ 24.61577143],\n",
       "       [ 21.64115655],\n",
       "       [  5.24201095],\n",
       "       [ 16.9675508 ],\n",
       "       [  6.72983146],\n",
       "       [ 10.88347271],\n",
       "       [ 13.60982161],\n",
       "       [ 15.38699055],\n",
       "       [ -3.76133777],\n",
       "       [ 12.34441371]])"
      ]
     },
     "execution_count": 11,
     "metadata": {},
     "output_type": "execute_result"
    }
   ],
   "source": [
    "# Prediction on Test data\n",
    "y_predicted = model.predict(xTest)\n",
    "y_predicted"
   ]
  },
  {
   "cell_type": "code",
   "execution_count": 12,
   "metadata": {},
   "outputs": [
    {
     "name": "stdout",
     "output_type": "stream",
     "text": [
      "RMSE : 88.27628521920255\n"
     ]
    }
   ],
   "source": [
    "## Let's Find the rmse using the function above\n",
    "print(\"RMSE :\", RMSE(y_predicted, yTest))"
   ]
  },
  {
   "cell_type": "code",
   "execution_count": 13,
   "metadata": {},
   "outputs": [
    {
     "name": "stdout",
     "output_type": "stream",
     "text": [
      "MSE:  7792.702532101998\n",
      "RMSE :  88.27628521920255\n"
     ]
    }
   ],
   "source": [
    "## We can aslo find Root Mean Square error using mean_squared_error function from sklearn.metrics  and numpy sqrt function \n",
    "mse = mean_squared_error(yTest, y_predicted)\n",
    "print(\"MSE: \" , mse)\n",
    "rmse = np.sqrt(mse)\n",
    "print(\"RMSE : \", rmse)"
   ]
  },
  {
   "cell_type": "code",
   "execution_count": 14,
   "metadata": {},
   "outputs": [
    {
     "data": {
      "image/png": "[encoded data removed]",
      "text/plain": [
       "<Figure size 432x288 with 1 Axes>"
      ]
     },
     "metadata": {
      "needs_background": "light"
     },
     "output_type": "display_data"
    }
   ],
   "source": [
    "## Let's plot our actual value and predicted value of Y\n",
    "import matplotlib.pyplot as plt\n",
    "plt.scatter(yTest, y_predicted)\n",
    "plt.xlabel('Actual y')\n",
    "plt.ylabel('Predicted y')\n",
    "plt.title('scatter plot between actual y and predicted y')\n",
    "plt.show()"
   ]
  },
  {
   "cell_type": "code",
   "execution_count": 15,
   "metadata": {},
   "outputs": [],
   "source": [
    "## Let's use SDGRegressor instead of using dircect linearregression\n",
    "# Standardizationi of Data\n",
    "scaler = preprocessing.StandardScaler().fit(xTrain)\n",
    "x_Train = scaler.transform(xTrain)\n",
    "x_Test=scaler.transform(xTest)"
   ]
  },
  {
   "cell_type": "code",
   "execution_count": 17,
   "metadata": {},
   "outputs": [],
   "source": [
    "## Converting into array\n",
    "x_test=np.array(x_Test)\n",
    "y_test=np.array(yTest)"
   ]
  },
  {
   "cell_type": "code",
   "execution_count": 18,
   "metadata": {},
   "outputs": [
    {
     "name": "stdout",
     "output_type": "stream",
     "text": [
      "(346, 12)\n",
      "(171, 12)\n",
      "(346, 1)\n",
      "(171, 1)\n"
     ]
    }
   ],
   "source": [
    "print(x_Train.shape)\n",
    "print(x_test.shape)\n",
    "print(yTrain.shape)\n",
    "print(y_test.shape)"
   ]
  },
  {
   "cell_type": "code",
   "execution_count": 23,
   "metadata": {},
   "outputs": [
    {
     "name": "stderr",
     "output_type": "stream",
     "text": [
      "C:\\Users\\msi\\anaconda3\\lib\\site-packages\\sklearn\\utils\\validation.py:63: DataConversionWarning: A column-vector y was passed when a 1d array was expected. Please change the shape of y to (n_samples, ), for example using ravel().\n",
      "  return f(*args, **kwargs)\n"
     ]
    },
    {
     "data": {
      "image/png": "[encoded data removed]",
      "text/plain": [
       "<Figure size 432x288 with 1 Axes>"
      ]
     },
     "metadata": {
      "needs_background": "light"
     },
     "output_type": "display_data"
    },
    {
     "name": "stdout",
     "output_type": "stream",
     "text": [
      "Mean Squared Error : 7781.215747704755\n",
      "RMSE :  88.21119967274424\n"
     ]
    },
    {
     "data": {
      "text/plain": [
       "array([ 5.15909862,  0.10152857,  0.30936102,  1.8012108 , -1.21983045,\n",
       "        7.5868421 , -2.47522031, -0.12997426,  1.36420385, -3.57142995,\n",
       "        1.1532753 , -1.0512391 ])"
      ]
     },
     "execution_count": 23,
     "metadata": {},
     "output_type": "execute_result"
    }
   ],
   "source": [
    "## Buildind and fitting the model\n",
    "sdg_model = SGDRegressor()\n",
    "sdg_model.fit(x_Train, yTrain)\n",
    "plt.scatter(y_test,sdg_model.predict(x_test))\n",
    "\n",
    "plt.xlabel('Actual y')\n",
    "plt.ylabel('Predicted y')\n",
    "plt.title('scatter plot between actual y and predicted y')\n",
    "plt.show()\n",
    "print('Mean Squared Error :',mean_squared_error(y_test, sdg_model.predict(x_test)))\n",
    "print(\"RMSE : \", np.sqrt(mean_squared_error(y_test, sdg_model.predict(x_test))))\n",
    "sdg_model.coef_"
   ]
  },
  {
   "cell_type": "code",
   "execution_count": null,
   "metadata": {},
   "outputs": [],
   "source": [
    "### Conclusion \n",
    "## We can see that our RMSE is higher, in both cases\n",
    "## If we want to improve our model we can try for buidling SGD regression by self coding where we can change learning rate and iteration\n",
    "## In self coding we can change our learning rate and iteration size and maybe can find our suitable model\n",
    "## As it was not asked in the assignment, I did not do that.\n",
    "\n",
    "## Thanks"
   ]
  }
 ],
 "metadata": {
  "kernelspec": {
   "display_name": "Python 3",
   "language": "python",
   "name": "python3"
  },
  "language_info": {
   "codemirror_mode": {
    "name": "ipython",
    "version": 3
   },
   "file_extension": ".py",
   "mimetype": "text/x-python",
   "name": "python",
   "nbconvert_exporter": "python",
   "pygments_lexer": "ipython3",
   "version": "3.8.8"
  }
 },
 "nbformat": 4,
 "nbformat_minor": 4
}
